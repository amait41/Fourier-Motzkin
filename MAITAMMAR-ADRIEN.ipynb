{
 "cells": [
  {
   "cell_type": "markdown",
   "metadata": {},
   "source": [
    "# Exercice 1 : Fourier-Motzkin"
   ]
  },
  {
   "cell_type": "markdown",
   "metadata": {},
   "source": [
    "On considère un problème de minimisation sous forme standard : <br>\n",
    "<br>\n",
    "$$\n",
    "\\left\\{\n",
    "    \\begin{array}{ll}\n",
    "        min f(x) = \\sum\\limits^{n}_{j=1} c_jx_j = c^Tx \\\\\n",
    "        \\sum\\limits^{n}_{j=1} a_{i,j} x_j \\leq b_i, \\: i=1, \\cdots, r \\Leftrightarrow Ax\\leq b \\\\\n",
    "        x_j \\geq 0, \\: j=1, \\cdots, n \\Leftrightarrow x \\geq 0 \\\\\n",
    "    \\end{array}\n",
    "\\right.\n",
    "$$\n",
    "<br>\n",
    "où $x= (x_1, \\cdots, x_n)^T \\in \\mathbb{R}^n, \\: c=(c_1, \\cdots, c_n)^T \\in \\mathbb{R}^n,\\: b=(b_1, \\cdots, b_r) \\in \\mathbb{R}^r, \\: A \\in \\mathcal{M_{r,n}}(\\mathbb{R})$.<br>\n",
    "Ecrivons une fonction Python `FourierMotzkin(A,b,c)` qui retourne la liste $(min f, x_1, · · · , x_n)$\n",
    "par méthode de Fourier-Motzkin."
   ]
  },
  {
   "cell_type": "markdown",
   "metadata": {},
   "source": [
    "Dans un premier temps on définit le premier coefficient non-nul de notre vecteur $c=(c_1, \\cdots, c_n)^T$ et on note son indice $k$. Si $c$ n'est pas nul alors on effectue le changement de variable (2) suivant: <br>\n",
    "<br>\n",
    "$$\n",
    "\\left\\{\n",
    "    \\begin{array}{ll}\n",
    "        x_1 &= x_1 \\\\\n",
    "            &\\vdots\\\\\n",
    "        x_{k-1} &= x_{k-1} \\\\\n",
    "        u &= c_kx_k + \\cdots + c_nx_n \\\\\n",
    "        x_{k+1} &= x_{k+1} \\\\\n",
    "            &\\vdots \\\\\n",
    "        x_n &= x_n \\\\\n",
    "    \\end{array}\n",
    "\\right.\n",
    "$$\n",
    "<br>\n",
    "puis on échange la colonne sur laquelle nous avons fait le changement de variable avec la dernière. En suite, on concatène sur l'axe vertical $-I_n$ à $A$ (3) et $\\underbrace{(0, \\cdots, 0)}_{n fois}$ à $b$ (3 bis) pour établir les contraintes de positivité.\n",
    "\n",
    "Puis viens la phase de descente (4) suivit de la phase de rémontée (5) toutes deux expliquées ci-dessous."
   ]
  },
  {
   "cell_type": "code",
   "execution_count": 1,
   "metadata": {},
   "outputs": [],
   "source": [
    "import numpy as np"
   ]
  },
  {
   "cell_type": "code",
   "execution_count": 2,
   "metadata": {},
   "outputs": [],
   "source": [
    "def FourierMotzkin(A, b, c):\n",
    "    \n",
    "    A = np.array(A)\n",
    "    b = np.array(b)\n",
    "    c = np.array(c)\n",
    "    n = len(c) # nombre de variables\n",
    "    \n",
    "    k = premier_coef_non_nul(c)   #(1)\n",
    "    if k == None:\n",
    "        raise ValueError('Le vecteur c est nul.')\n",
    "\n",
    "    B = changement_variable(A, c, k)       # (2)\n",
    "    # ajout des constantes dans le système\n",
    "    b = np.hstack((b, np.zeros(A.shape[1])))   # (3 bis)\n",
    "    \n",
    "    stock_fa = descente(B, b, n)  # (4)\n",
    "    \n",
    "    return remontee(stock_fa, c, n, k) # (5)"
   ]
  },
  {
   "cell_type": "code",
   "execution_count": 3,
   "metadata": {},
   "outputs": [],
   "source": [
    "def premier_coef_non_nul(vect):\n",
    "    '''\n",
    "    Retourne l'indice du premier coefficient non-null d'un vecteur.\n",
    "    '''\n",
    "    for i in range(len(vect)):\n",
    "        if vect[i] != 0:\n",
    "            return i"
   ]
  },
  {
   "cell_type": "code",
   "execution_count": 4,
   "metadata": {},
   "outputs": [],
   "source": [
    "def changement_variable(A, c, k):\n",
    "    '''\n",
    "    Args : matrice A de taille n*r, vecteur c de taile 1*r, \n",
    "    k indice du premier coef non nul de c\n",
    "    \n",
    "    Return : La matrice de taille (r+n)*r correspond au\n",
    "    changement de variable sur x_k par u = ck*xk + ... + cn*xn \n",
    "    (où k est le premier coefficient non-null de c) sur A, \n",
    "    concaténée avec -I_n.\n",
    "    '''\n",
    "    # ajout de la contrainte de positivité sur les variables\n",
    "    (r,n) = A.shape\n",
    "    A = np.vstack((A, -np.eye(n))) # (3)\n",
    "    \n",
    "    # changement de variable u\n",
    "    for i in range(r+n):\n",
    "        for j in range(n):\n",
    "            if j != k:\n",
    "                A[i,j] -= A[i,k]*c[j] / c[k]\n",
    "            else:\n",
    "                A[i,j] /= c[k]\n",
    "    \n",
    "    # on échange la colonne k avec la dernière \n",
    "    tmp = np.copy(A)\n",
    "    A[:,k], A[:,-1] = A[:,-1], tmp[:,k]\n",
    "    \n",
    "    return A"
   ]
  },
  {
   "cell_type": "markdown",
   "metadata": {},
   "source": [
    "La phase de descente consiste à projeter l'espace définit par $Ax \\leq b$ sur les variables $x_2, \\cdots, x_n, u$ puis sur les variables $x_3, \\cdots, x_n, u$ et ainsi de suite jusqu'à obtenir un encadrement de $u$. La fonction *bornes* nous permet de stocker à chaque projection les formes affines qui encadrent la variable à éliminer."
   ]
  },
  {
   "cell_type": "code",
   "execution_count": 5,
   "metadata": {},
   "outputs": [],
   "source": [
    "def descente(A, b, n):\n",
    "    \"\"\"\n",
    "    Args :\n",
    "    A matrice définissant un ensemble de points dans R^n et b un \n",
    "    vecteur correspondant aux  bornes supérieures des contraintes.\n",
    "    \n",
    "    Return :\n",
    "    Liste de listes contenant les intervalles \n",
    "    [max(formes affines), min(formes affines)] bornant les \n",
    "    variables éliminées pour les projections de l'espace donnée.\n",
    "    \"\"\"\n",
    "    # on concatène A et -b.reshape((r,1))\n",
    "    A = np.c_[A,-b]\n",
    "    A = norm(A)\n",
    "    stock_fa = []\n",
    "    for i in range(n):\n",
    "        stock_fa.append(bornes(A, n))\n",
    "        A = norm(proj(A))\n",
    "    return stock_fa"
   ]
  },
  {
   "cell_type": "code",
   "execution_count": 6,
   "metadata": {},
   "outputs": [],
   "source": [
    "def norm(B):\n",
    "    \"\"\"\n",
    "    Retourne la matrice normalisé telle qu'il est uniquement \n",
    "    des -1, 0, ou 1 sur la première colonne.\n",
    "    \"\"\"\n",
    "    (r,n) = B.shape\n",
    "    for i in range(r):\n",
    "        if B[i,0] != 0 and abs(B[i,0]) != 1:\n",
    "            B[i,:] /= abs(B[i,0])\n",
    "    return B"
   ]
  },
  {
   "cell_type": "code",
   "execution_count": 7,
   "metadata": {},
   "outputs": [],
   "source": [
    "def proj(C):\n",
    "    \"\"\"\n",
    "    Args :\n",
    "    Matrice normalisée (cf norm).\n",
    "    \n",
    "    Return :\n",
    "    Système définissant l'espace projeté sur les variables \n",
    "    x_i, ..., x_n où i correspond à la deuxième colonne\n",
    "    de la matrice donnée.\n",
    "    \"\"\"\n",
    "    (p,q) = np.shape(C)\n",
    "    E = np.array([]).reshape(0,q-1)\n",
    "    G = np.array([]).reshape(0,q-1)\n",
    "    D = np.array([]).reshape(0,q-1)\n",
    "    \n",
    "    for i in range(p):\n",
    "        line = np.copy(C[i][1:]).reshape(1,q-1)\n",
    "        if C[i][0] > 0:\n",
    "            D = np.vstack((D,-line))\n",
    "        elif C[i][0] < 0:\n",
    "            G = np.vstack((G,line))\n",
    "        else:\n",
    "            E = np.vstack((E,line)) \n",
    "    \n",
    "    for g in G:\n",
    "        for d in D:\n",
    "            E = np.vstack((E,(g-d).reshape(1,q-1)))\n",
    "    \n",
    "    return E"
   ]
  },
  {
   "cell_type": "code",
   "execution_count": 8,
   "metadata": {},
   "outputs": [],
   "source": [
    "def bornes(A, n):\n",
    "    \"\"\"\n",
    "    Entrée : La matrice A normée définissant un polyèdre et \n",
    "    le nombre de variables du système complet (ie non projeté).\n",
    "\n",
    "    Sortie : L'intervalle [max(formes affines), min(formes affines)] \n",
    "    bornant la première variable du système de contraintes Ax - b <= 0\n",
    "    sous la forme d'une liste de listes de coefficients des formes affines.\n",
    "    \"\"\"\n",
    "    stock_fa = [[],[]]\n",
    "    nb_lignes, q = np.shape(A)[0],np.shape(A)[1]-1\n",
    "    # q = nombre de variables du système courant\n",
    "    # n = nombre de variables du système complet\n",
    "\n",
    "    for i in range(nb_lignes):\n",
    "        if A[i,0] > 0: # x1 + forme affine < 0\n",
    "            forme_affine = [0 for k in range(n-q+1)] + list(-A[i,1:])\n",
    "            stock_fa[1].append(forme_affine)\n",
    "\n",
    "        elif A[i,0] < 0: # -x1 + forme affine < 0\n",
    "            forme_affine = [0 for k in range(n-q+1)] + list(A[i,1:])\n",
    "            stock_fa[0].append(forme_affine)\n",
    "\n",
    "    #On regarde si la variable est non bornée\n",
    "    if stock_fa[0]==[]:\n",
    "        stock_fa[0]=[[0 for i in range(n)] + [-1e16]]\n",
    "    if stock_fa[1]==[]:\n",
    "        stock_fa[1]=[[0 for i in range(n)] + [1e16]]\n",
    "\n",
    "    return stock_fa"
   ]
  },
  {
   "cell_type": "markdown",
   "metadata": {},
   "source": [
    "Pour finir, on utilise la fonction *remontee* qui va nous permettre de connaitre à la fois le minimum $f(x)$ tq $Ax \\leq b$ et aussi un point $x^*=(x_1^*, \\cdots, x_n^*)$ pour lequel le minimum est atteint.\n",
    "\n",
    "Pour ce faire, on détermine le minimum de $u$ en prennant le max des constantes dans la première liste.\n",
    "\n",
    "Pour calculer la valeur des autres variables, on regarde le signe devant la variable en question dans le vecteur $c$. Si le coefficient est positif alors on prend le minimum des formes affines dans lesquelles on aura remplacé les variables pour les minimums précédement trouvés. Si le coefficient est négatif alors on fait de même mais en prennant le maximum.\n",
    "\n",
    "Enfin, on calcul la valeur de la variable $x_k$ que nous avions remplacée puis on remet les minimums dans le bon ordre. On retourne le résultat sous la forme $(\\underset{Ax \\leq b}{\\min} f(x), x_1^*, \\cdots, x_n^*)$."
   ]
  },
  {
   "cell_type": "code",
   "execution_count": 9,
   "metadata": {},
   "outputs": [],
   "source": [
    "def remontee(stock_fa, c, n, k):\n",
    "    \"\"\"\n",
    "    Args:\n",
    "    Stock des matrices représentant les contraintes,\n",
    "    projection après projection.\n",
    "    \n",
    "    Return :\n",
    "    Liste de la forme [min c.dot(x), x_1, ..., x_n]\n",
    "    \"\"\"\n",
    "    bornes_inf = [0 for i in range(n)]\n",
    "\n",
    "    # on détermine le minimum de u\n",
    "    liste_inf = stock_fa[-1][0]\n",
    "    inf = max([liste_inf[i][n] for i in range(len(liste_inf))] )\n",
    "    min_f = inf\n",
    "    bornes_inf[-1]=inf\n",
    "    \n",
    "    # on dertermine le minimum des variables différantes de x_k\n",
    "    for g in range(n-2,-1,-1):\n",
    "        # Si le coefficient devant x_k est positif, \n",
    "        # on prend le minimum des formes affines qui majorent,\n",
    "        if c[g]>0:\n",
    "            list_inf = stock_fa[g][0]\n",
    "            inf = max([sum([bornes_inf[j] * list_inf[i][j] for j in range(n)]) + list_inf[i][n] for i in range(len(list_inf))])\n",
    "        # sinon on prend le maximum le formes affines qui minorent.\n",
    "        else :\n",
    "            list_inf = stock_fa[g][1]\n",
    "            inf = min([sum([bornes_inf[j] * list_inf[i][j] for j in range(n)]) + list_inf[i][n] for i in range(len(list_inf))])\n",
    "        bornes_inf[g] = inf\n",
    "    \n",
    "    # on détermine min(x_k)\n",
    "    c_aux = list(np.copy(c))\n",
    "    c_aux[k] = c[-1]\n",
    "    c_aux[-1] = c[k]\n",
    "    min_k = (bornes_inf[-1] - sum([c_aux[i]*bornes_inf[i] for i in range(n-1)])) / c[k] \n",
    "    \n",
    "    # on rétablie dans le bon ordre les minimums \n",
    "    bornes_inf[n-1] = bornes_inf[k]\n",
    "    bornes_inf[k] = min_k\n",
    "    return [min_f] + bornes_inf"
   ]
  },
  {
   "cell_type": "markdown",
   "metadata": {},
   "source": [
    "# Exercice 2 : Problème de planification"
   ]
  },
  {
   "cell_type": "markdown",
   "metadata": {},
   "source": [
    "Une entreprise, spécialisée dans la construction de cartes à puces, désire minimiser les coûts de\n",
    "leurs productions. Lors de la production de ces cartes, l’entreprise a besoin de certains composants\n",
    "électroniques, qu’elle produit elle-même. Une bonne planification de la production est facile à\n",
    "réaliser puisque les composants sont produits en interne. Les trois composants dont la production\n",
    "est à planifier sur quatre mois sont notés sous les références M1, M2, M3. Le coût de fabrication\n",
    "de ces composants comporte les coûts de production proprements dits, les coûts de stockage, mais\n",
    "aussi des coûts liés aux variations des niveaux en production. En effet, quand le niveau total (i.e.,\n",
    "tout type de composants) de la production change, des réglages machines et des vérifications sont\n",
    "à effectuer pour le mois en cours. Le coût associé est proportionnel à la quantité totale produite\n",
    "en plus ou en moins par rapport au mois précédent. Le coût pour une augmentation est de 1 euros\n",
    "par pièce en plus, alors que celui d’une diminution est seulement de 0.5 euros par pièce en moins.\n",
    "Notons qu’un changement de niveau de production n’est autre que la différence entre la quantité\n",
    "totale produite lors du mois en question et la quantité totale produite lors du mois précédent.\n",
    "Les informations concernant, pour chaque composant, la demande (Dem) par période, les coûts\n",
    "de production (en euros par unité) et de stockage (en euros par unité) ainsi que le stock initial et\n",
    "le stock final désirés pour chacun des produits, sont données dans le tableau suivant :\n",
    "\n",
    "|  |Dem. mois 1|Dem. mois 2|Dem. mois 3|Dem. mois 4|Coût prod.|Coût stock|Stock init|Stock final|\n",
    "|--|-----------|-----------|-----------|-----------|----------|----------|----------|-----------|\n",
    "|M1|1500       |3000       |2000       |4000       |20        |1         |10        |50         |\n",
    "|M2|1300       |800        |800        |1000       |25        |2         |0         |10         |\n",
    "|M1|2200       |1500       |2900       |1800       |10        |3         |50        |30         |\n",
    "\n",
    "1. Ecrire le programme linéaire dont l’objectif est de fixer le plan de production qui minimise la somme des coûts de changement du niveau de production, des coûts de production et des coûts de stockage.\n",
    "2. Ecrire le programme Python correspondant et calculer le résultat demandé."
   ]
  },
  {
   "cell_type": "markdown",
   "metadata": {},
   "source": [
    "## Modélisation"
   ]
  },
  {
   "cell_type": "markdown",
   "metadata": {},
   "source": [
    "### Variables"
   ]
  },
  {
   "cell_type": "markdown",
   "metadata": {},
   "source": [
    "Pour le mois $i$ et le composant $j$, on pose:\n",
    "- $d_{i,j}$ la demande\n",
    "- $x_{i,j}$ la production\n",
    "- $s_{i,j}$ le stock.\n",
    "\n",
    "De plus, nous aurons besoin de poser des contraintes sur le coût de manutention. On note alors $m_i$ le coût de manutantion pour les mois $i-1$ à $i$ tel que $i=2,3,4$ et $m_1=0$.\n",
    "\n",
    "$x_{i,j}$, $s_{i,j}$ et $m_{i}$ seront les variables de notre système et $d_{i,j}$ des constantes."
   ]
  },
  {
   "cell_type": "markdown",
   "metadata": {},
   "source": [
    "### Fonction coût"
   ]
  },
  {
   "cell_type": "markdown",
   "metadata": {},
   "source": [
    "La fonction est composée pour le mois $i$ du coût de production $C^{P}_{i}$, du coût de stockage $C^{S}_{i}$, et du coût de manutention $C^{M}_{i}$, tels que:\n",
    "\n",
    "$$\n",
    "\\left\\{\n",
    "    \\begin{array}{ll}\n",
    "        C^P_i = 20x_{i,1} + 25x_{i,2} + 10x_{i,3} \\\\\n",
    "        C^S_i = s_{i,1} + 2s_{i,2} + 3s_{i,3} \\\\\n",
    "        C^M_i = m_i\n",
    "    \\end{array}\n",
    "\\right.\n",
    "$$\n",
    "\n",
    "Ainsi le coût total $C$ est définit comme suit:\n",
    "$$\n",
    "C = \\sum\\limits^4_{i=1} C^P_i + C^S_i + C^M_i\n",
    "$$"
   ]
  },
  {
   "cell_type": "markdown",
   "metadata": {},
   "source": [
    "### Contraintes"
   ]
  },
  {
   "cell_type": "markdown",
   "metadata": {},
   "source": [
    "La production ajoutée aux stocks, doit être supérieure à la demande pour les mois 1 à 4 et pour les composants 1, 2 et 3 (1). Les stocks d'un mois pour un composant correspond exactement à la production du mois plus le stock  moins la demande du mois précédant (6). Les stocks initiaux (7) et finals (8) sont fixés. Les productions, les stocks et les coûts de maintenance sont positifs (resp. 4, 5, et 6). Et pour finir, on note pour les mois 2,3 et 4, $\\Delta_i$ la variation de prodction du mois $i-1$ au mois $i$ tel que $\\Delta_i = \\sum\\limits^3_{j=1} x_{i,j} - x_{i-1,j}, \\: i=2,3,4$ (et $\\Delta_1 = 0$). $\\:$ Alors $m_i \\geq max(-\\frac{1}{2}\\Delta_i, \\Delta_i)$  (2 et 3).\n",
    "\n",
    "Alors les contraintes sur les variables $x_{i,j}$, $s_{i,j}$ et $c_{i}$ se traduisent par le système suivant: <br>\n",
    "<br>\n",
    "$$\n",
    "\\left\\{\n",
    "    \\begin{array}{ll}\n",
    "        -x_{i,j} - s_{i,j} \\leq -d_{i,j} \\quad &\\forall i = {1,\\cdots,4}, \\quad \\forall j=1,\\cdots,3 \\quad &(1)\\\\\n",
    "        - \\frac{1}{2} \\Delta_i - m_i \\leq 0 \\quad &\\forall i = {1,\\cdots,4} \\quad &(2)\\\\\n",
    "        \\Delta_i - m_i \\leq 0, \\quad &\\forall i = {1,\\cdots,4} \\quad &(3)\\\\\n",
    "        -x_{i,j} \\leq 0, \\quad &\\forall i = {1,\\cdots,4}, \\quad \\forall j=1,\\cdots,3 \\quad &(4)\\\\\n",
    "        -s_{i,j} \\leq 0, \\quad &\\forall i = {1,\\cdots,4}, \\quad \\forall j=1,\\cdots,3 \\quad &(5)\\\\\n",
    "        -m_{i} \\leq 0, \\quad &\\forall i = {1,\\cdots,4} \\quad &(6)\\\\\n",
    "        x_{i-1,j} + s_{i-1,j} - d_{i-1,j} = s_{i,j} &\\forall i = {1,\\cdots,4} \\quad &(7)\\\\\n",
    "        s_{1,1} = 10, \\: s_{1,2} = 0, \\:s_{1,3} = 50 &\\quad &(8)\\\\\n",
    "        x_{4,1} + s_{4,1} - d_{4,1} = 50, \\; x_{4,2} + s_{4,2} - d_{4,2} = 10, \\: x_{4,3} + s_{4,3} - d_{4,3} = 30 &\\quad &(9)\\\\\n",
    "    \\end{array}\n",
    "\\right.\n",
    "$$"
   ]
  },
  {
   "cell_type": "markdown",
   "metadata": {},
   "source": [
    "## Programmation"
   ]
  },
  {
   "cell_type": "markdown",
   "metadata": {},
   "source": [
    "Nous allons à présent utiliser la fonction `linprog` du package `scipy.optimize` pour résoudre le problème."
   ]
  },
  {
   "cell_type": "code",
   "execution_count": 10,
   "metadata": {},
   "outputs": [],
   "source": [
    "import numpy as np\n",
    "import pandas as pd\n",
    "from scipy.optimize import linprog"
   ]
  },
  {
   "cell_type": "markdown",
   "metadata": {},
   "source": [
    "### Constantes"
   ]
  },
  {
   "cell_type": "code",
   "execution_count": 11,
   "metadata": {},
   "outputs": [],
   "source": [
    "# demande par mois par composant\n",
    "d = np.array([[1500,1300,2200],\n",
    "              [3000,800,1500],\n",
    "              [2000,800,2900],\n",
    "              [4000,1000,1800]])\n",
    "# coût de production\n",
    "cp = np.array([20,25,10])\n",
    "# coût de stockage\n",
    "cs = np.array([1,2,3])\n",
    "# stock initial\n",
    "stock_initial = np.array([10,0,50])\n",
    "# stock final\n",
    "stock_final = np.array([50,10,30])"
   ]
  },
  {
   "cell_type": "markdown",
   "metadata": {},
   "source": [
    "### Contraintes d'inégalité"
   ]
  },
  {
   "cell_type": "code",
   "execution_count": 12,
   "metadata": {},
   "outputs": [
    {
     "name": "stdout",
     "output_type": "stream",
     "text": [
      "(18, 27)\n",
      "(18,)\n"
     ]
    }
   ],
   "source": [
    "# contrainte sur la demande\n",
    "A_ub1 = -np.hstack([np.eye(12), np.eye(12), np.zeros((12,3))])\n",
    "# contrainte sur les coûts de manutantion\n",
    "A_ub2 = np.hstack([np.array([[1/2,1/2,1/2, -1/2,-1/2,-1/2, 0,0,0, 0,0,0],\n",
    "                             [-1,-1,-1, 1,1,1, 0,0,0, 0,0,0],\n",
    "                             [0,0,0, 1/2,1/2,1/2, -1/2,-1/2,-1/2, 0,0,0],\n",
    "                             [0,0,0, -1,-1,-1, 1,1,1, 0,0,0],\n",
    "                             [0,0,0, 0,0,0, 1/2,1/2,1/2, -1/2,-1/2,-1/2],\n",
    "                             [0,0,0, 0,0,0, -1,-1,-1, 1,1,1]]),\n",
    "                   np.zeros((6,12)),\n",
    "                   -np.array([1,0,0, 1,0,0, 0,1,0, 0,1,0, 0,0,1, 0,0,1]).reshape(6,3)\n",
    "                  ])\n",
    "A_ub = np.vstack([A_ub1, A_ub2])\n",
    "\n",
    "b_ub1 = -d.ravel()\n",
    "b_ub2 = np.zeros(6)\n",
    "b_ub = np.hstack([b_ub1, b_ub2])\n",
    "\n",
    "print(A_ub.shape)\n",
    "print(b_ub.shape)"
   ]
  },
  {
   "cell_type": "markdown",
   "metadata": {},
   "source": [
    "### Contraintes d'égalité"
   ]
  },
  {
   "cell_type": "code",
   "execution_count": 13,
   "metadata": {},
   "outputs": [
    {
     "name": "stdout",
     "output_type": "stream",
     "text": [
      "(15, 27)\n",
      "(15,)\n"
     ]
    }
   ],
   "source": [
    "# contrainte sur le stock initial\n",
    "A_eq1 = np.hstack([np.zeros((3,12)), np.eye(3), np.zeros((3,12))])\n",
    "# contrainte sur les stocks intermédiaires\n",
    "A_eq2 = np.hstack([np.eye(9), np.zeros((9,3)), np.eye(9,12) - np.eye(9,12,k=3), np.zeros((9,3))])\n",
    "# contrainte sur le stock final\n",
    "A_eq3 = np.hstack([np.zeros((3,9)), np.eye(3), np.zeros((3,9)), np.eye(3), np.zeros((3,3))])\n",
    "A_eq = np.vstack([A_eq1, A_eq2, A_eq3])\n",
    "\n",
    "b_eq1 = stock_initial\n",
    "b_eq2 = d.ravel()[:9]\n",
    "b_eq3 = stock_final + d.ravel()[9:]\n",
    "b_eq = np.hstack([b_eq1, b_eq2, b_eq3])\n",
    "\n",
    "print(A_eq.shape)\n",
    "print(b_eq.shape)"
   ]
  },
  {
   "cell_type": "markdown",
   "metadata": {},
   "source": [
    "### Fonction coût"
   ]
  },
  {
   "cell_type": "code",
   "execution_count": 14,
   "metadata": {},
   "outputs": [
    {
     "name": "stdout",
     "output_type": "stream",
     "text": [
      "(27,)\n"
     ]
    }
   ],
   "source": [
    "c_prod = np.hstack([cp, cp, cp, cp, np.zeros(15)])\n",
    "c_stock = np.hstack([np.zeros(12), cs, cs, cs, cs, np.zeros(3)])\n",
    "c_manu = np.hstack([np.zeros(24), np.ones(3)])\n",
    "c = c_prod + c_stock + c_manu\n",
    "\n",
    "print(c.shape)"
   ]
  },
  {
   "cell_type": "markdown",
   "metadata": {},
   "source": [
    "### Résultats"
   ]
  },
  {
   "cell_type": "code",
   "execution_count": 15,
   "metadata": {},
   "outputs": [
    {
     "name": "stdout",
     "output_type": "stream",
     "text": [
      "Optimization terminated successfully.\n"
     ]
    }
   ],
   "source": [
    "res = linprog(c, A_ub, b_ub, A_eq, b_eq, bounds=(0,None), method=\"simplex\")\n",
    "print(res.message)"
   ]
  },
  {
   "cell_type": "code",
   "execution_count": 16,
   "metadata": {},
   "outputs": [],
   "source": [
    "res.x = np.round(res.x,4)\n",
    "prod = [[res.x[i%3+3*j] for i in range(3)] for j in range(4)]\n",
    "stock = [[res.x[i%3+3*j+12] for i in range(3)] for j in range(4)]"
   ]
  },
  {
   "cell_type": "code",
   "execution_count": 17,
   "metadata": {},
   "outputs": [
    {
     "name": "stdout",
     "output_type": "stream",
     "text": [
      "Production:\n"
     ]
    },
    {
     "data": {
      "text/html": [
       "<div>\n",
       "<style scoped>\n",
       "    .dataframe tbody tr th:only-of-type {\n",
       "        vertical-align: middle;\n",
       "    }\n",
       "\n",
       "    .dataframe tbody tr th {\n",
       "        vertical-align: top;\n",
       "    }\n",
       "\n",
       "    .dataframe thead th {\n",
       "        text-align: right;\n",
       "    }\n",
       "</style>\n",
       "<table border=\"1\" class=\"dataframe\">\n",
       "  <thead>\n",
       "    <tr style=\"text-align: right;\">\n",
       "      <th></th>\n",
       "      <th>Mois 1</th>\n",
       "      <th>Mois 2</th>\n",
       "      <th>Mois 3</th>\n",
       "      <th>Mois 4</th>\n",
       "    </tr>\n",
       "  </thead>\n",
       "  <tbody>\n",
       "    <tr>\n",
       "      <th>Composant 1</th>\n",
       "      <td>1670.0</td>\n",
       "      <td>2820.0</td>\n",
       "      <td>2595.0</td>\n",
       "      <td>3455.0</td>\n",
       "    </tr>\n",
       "    <tr>\n",
       "      <th>Composant 2</th>\n",
       "      <td>1300.0</td>\n",
       "      <td>800.0</td>\n",
       "      <td>800.0</td>\n",
       "      <td>1010.0</td>\n",
       "    </tr>\n",
       "    <tr>\n",
       "      <th>Composant 3</th>\n",
       "      <td>2150.0</td>\n",
       "      <td>1500.0</td>\n",
       "      <td>2900.0</td>\n",
       "      <td>1830.0</td>\n",
       "    </tr>\n",
       "  </tbody>\n",
       "</table>\n",
       "</div>"
      ],
      "text/plain": [
       "             Mois 1  Mois 2  Mois 3  Mois 4\n",
       "Composant 1  1670.0  2820.0  2595.0  3455.0\n",
       "Composant 2  1300.0   800.0   800.0  1010.0\n",
       "Composant 3  2150.0  1500.0  2900.0  1830.0"
      ]
     },
     "metadata": {},
     "output_type": "display_data"
    }
   ],
   "source": [
    "prod = pd.DataFrame({'Mois 1':prod[0], 'Mois 2':prod[1], 'Mois 3':prod[2],'Mois 4':prod[3]})\n",
    "prod.index = ['Composant 1', 'Composant 2', 'Composant 3']\n",
    "print('Production:')\n",
    "display(prod)"
   ]
  },
  {
   "cell_type": "code",
   "execution_count": 18,
   "metadata": {},
   "outputs": [
    {
     "name": "stdout",
     "output_type": "stream",
     "text": [
      "Stock:\n"
     ]
    },
    {
     "data": {
      "text/html": [
       "<div>\n",
       "<style scoped>\n",
       "    .dataframe tbody tr th:only-of-type {\n",
       "        vertical-align: middle;\n",
       "    }\n",
       "\n",
       "    .dataframe tbody tr th {\n",
       "        vertical-align: top;\n",
       "    }\n",
       "\n",
       "    .dataframe thead th {\n",
       "        text-align: right;\n",
       "    }\n",
       "</style>\n",
       "<table border=\"1\" class=\"dataframe\">\n",
       "  <thead>\n",
       "    <tr style=\"text-align: right;\">\n",
       "      <th></th>\n",
       "      <th>Mois 1</th>\n",
       "      <th>Mois 2</th>\n",
       "      <th>Mois 3</th>\n",
       "      <th>Mois 4</th>\n",
       "      <th>Fin</th>\n",
       "    </tr>\n",
       "  </thead>\n",
       "  <tbody>\n",
       "    <tr>\n",
       "      <th>Composant 1</th>\n",
       "      <td>10.0</td>\n",
       "      <td>180.0</td>\n",
       "      <td>0.0</td>\n",
       "      <td>595.0</td>\n",
       "      <td>50.0</td>\n",
       "    </tr>\n",
       "    <tr>\n",
       "      <th>Composant 2</th>\n",
       "      <td>0.0</td>\n",
       "      <td>0.0</td>\n",
       "      <td>0.0</td>\n",
       "      <td>0.0</td>\n",
       "      <td>10.0</td>\n",
       "    </tr>\n",
       "    <tr>\n",
       "      <th>Composant 3</th>\n",
       "      <td>50.0</td>\n",
       "      <td>0.0</td>\n",
       "      <td>0.0</td>\n",
       "      <td>0.0</td>\n",
       "      <td>30.0</td>\n",
       "    </tr>\n",
       "  </tbody>\n",
       "</table>\n",
       "</div>"
      ],
      "text/plain": [
       "             Mois 1  Mois 2  Mois 3  Mois 4   Fin\n",
       "Composant 1    10.0   180.0     0.0   595.0  50.0\n",
       "Composant 2     0.0     0.0     0.0     0.0  10.0\n",
       "Composant 3    50.0     0.0     0.0     0.0  30.0"
      ]
     },
     "metadata": {},
     "output_type": "display_data"
    }
   ],
   "source": [
    "stock_fin = [prod.iloc[0,:].sum() - d[:,0].sum() + 10,\n",
    "             prod.iloc[1,:].sum() - d[:,1].sum() + 0,\n",
    "             prod.iloc[2,:].sum() - d[:,2].sum() + 50,\n",
    "            ]\n",
    "stock = pd.DataFrame({'Mois 1':stock[0], 'Mois 2':stock[1], 'Mois 3':stock[2],'Mois 4':stock[3], 'Fin':stock_fin})\n",
    "stock.index = ['Composant 1', 'Composant 2', 'Composant 3']\n",
    "print('Stock:')\n",
    "display(stock)"
   ]
  },
  {
   "cell_type": "code",
   "execution_count": 19,
   "metadata": {},
   "outputs": [
    {
     "data": {
      "text/html": [
       "<div>\n",
       "<style scoped>\n",
       "    .dataframe tbody tr th:only-of-type {\n",
       "        vertical-align: middle;\n",
       "    }\n",
       "\n",
       "    .dataframe tbody tr th {\n",
       "        vertical-align: top;\n",
       "    }\n",
       "\n",
       "    .dataframe thead th {\n",
       "        text-align: right;\n",
       "    }\n",
       "</style>\n",
       "<table border=\"1\" class=\"dataframe\">\n",
       "  <thead>\n",
       "    <tr style=\"text-align: right;\">\n",
       "      <th></th>\n",
       "      <th>Variation production</th>\n",
       "    </tr>\n",
       "  </thead>\n",
       "  <tbody>\n",
       "    <tr>\n",
       "      <th>Mois 1</th>\n",
       "      <td>5120.0</td>\n",
       "    </tr>\n",
       "    <tr>\n",
       "      <th>Mois 2</th>\n",
       "      <td>0.0</td>\n",
       "    </tr>\n",
       "    <tr>\n",
       "      <th>Mois 3</th>\n",
       "      <td>1175.0</td>\n",
       "    </tr>\n",
       "    <tr>\n",
       "      <th>Mois 4</th>\n",
       "      <td>0.0</td>\n",
       "    </tr>\n",
       "  </tbody>\n",
       "</table>\n",
       "</div>"
      ],
      "text/plain": [
       "        Variation production\n",
       "Mois 1                5120.0\n",
       "Mois 2                   0.0\n",
       "Mois 3                1175.0\n",
       "Mois 4                   0.0"
      ]
     },
     "metadata": {},
     "output_type": "display_data"
    }
   ],
   "source": [
    "var = np.array([prod.iloc[:,0].sum(),\n",
    "               prod.iloc[:,1].sum() - prod.iloc[:,0].sum(),\n",
    "               prod.iloc[:,2].sum() - prod.iloc[:,1].sum(),\n",
    "               prod.iloc[:,3].sum() - prod.iloc[:,2].sum()])\n",
    "var = pd.DataFrame({'Variation production':var})\n",
    "var.index = ['Mois 1', 'Mois 2', 'Mois 3', 'Mois 4']\n",
    "display(var)"
   ]
  },
  {
   "cell_type": "code",
   "execution_count": 20,
   "metadata": {},
   "outputs": [
    {
     "name": "stdout",
     "output_type": "stream",
     "text": [
      "Coût de total des 4 mois : 394460.0\n"
     ]
    }
   ],
   "source": [
    "print('Coût de total des 4 mois :',round(res.fun,2))"
   ]
  }
 ],
 "metadata": {
  "kernelspec": {
   "display_name": "Python 3",
   "language": "python",
   "name": "python3"
  },
  "language_info": {
   "codemirror_mode": {
    "name": "ipython",
    "version": 3
   },
   "file_extension": ".py",
   "mimetype": "text/x-python",
   "name": "python",
   "nbconvert_exporter": "python",
   "pygments_lexer": "ipython3",
   "version": "3.8.5"
  }
 },
 "nbformat": 4,
 "nbformat_minor": 4
}
